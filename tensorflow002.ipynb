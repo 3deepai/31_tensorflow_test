{
 "cells": [
  {
   "cell_type": "markdown",
   "metadata": {},
   "source": [
    "# tensorflow "
   ]
  },
  {
   "cell_type": "code",
   "execution_count": 3,
   "metadata": {
    "ExecuteTime": {
     "end_time": "2019-02-26T09:21:32.989487Z",
     "start_time": "2019-02-26T09:21:32.970799Z"
    }
   },
   "outputs": [],
   "source": [
    "import tensorflow as tf\n",
    "from __future__ import print_function\n",
    "sum = tf.Variable(1,dtype=tf.int32)\n",
    "\n",
    "i = tf.placeholder(dtype=tf.int32)\n",
    "\n",
    "tmp_sum = sum*i\n",
    "assign_op = tf.assign(sum,tmp_sum)\n",
    "\n",
    "with tf.control_dependencies([assign_op]):\n",
    "    sum = tf.Print(sum, data=[sum, sum.read_value()], message='sum:')\n",
    "    "
   ]
  },
  {
   "cell_type": "code",
   "execution_count": 5,
   "metadata": {
    "ExecuteTime": {
     "end_time": "2019-02-26T09:22:50.962363Z",
     "start_time": "2019-02-26T09:22:50.924928Z"
    }
   },
   "outputs": [
    {
     "name": "stdout",
     "output_type": "stream",
     "text": [
      "5!=120\n"
     ]
    }
   ],
   "source": [
    "# 4. 变量初始化操作\n",
    "x_init_op = tf.global_variables_initializer()\n",
    "\n",
    "# 5. 运行\n",
    "with tf.Session(config=tf.ConfigProto(log_device_placement=True, allow_soft_placement=True)) as sess:\n",
    "    # 变量初始化\n",
    "    sess.run(x_init_op)\n",
    "\n",
    "    # 模拟迭代更新累加器\n",
    "    for j in range(1, 6):\n",
    "        # 执行更新操作\n",
    "        # sess.run(assign_op, feed_dict={i: j})\n",
    "        # 通过control_dependencies可以指定依赖关系，这样的话，就不用管内部的更新操作了\n",
    "        r = sess.run(sum, feed_dict={i: j})\n",
    "\n",
    "    print(\"5!={}\".format(r))"
   ]
  },
  {
   "cell_type": "code",
   "execution_count": null,
   "metadata": {},
   "outputs": [],
   "source": []
  }
 ],
 "metadata": {
  "kernelspec": {
   "display_name": "Python 3",
   "language": "python",
   "name": "python3"
  },
  "language_info": {
   "codemirror_mode": {
    "name": "ipython",
    "version": 3
   },
   "file_extension": ".py",
   "mimetype": "text/x-python",
   "name": "python",
   "nbconvert_exporter": "python",
   "pygments_lexer": "ipython3",
   "version": "3.6.4"
  }
 },
 "nbformat": 4,
 "nbformat_minor": 2
}
