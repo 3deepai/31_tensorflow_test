{
 "cells": [
  {
   "cell_type": "markdown",
   "metadata": {},
   "source": [
<<<<<<< HEAD
    "## tensorflow\n",
    "\n",
    "图 graph:计算任务\n",
    "张量 tensor:数据\n",
    "操作 op:\n",
    "会话 Session:\n",
    "变量 Variable:\n",
    "\n",
    "\n"
=======
    "# import tensorflow as tf\n"
   ]
  },
  {
   "cell_type": "code",
   "execution_count": 1,
   "metadata": {},
   "outputs": [],
   "source": [
    "import tensorflow as tf"
>>>>>>> 884cd69331519827c2591efaf745be6bbcc97e6a
   ]
  },
  {
   "cell_type": "code",
<<<<<<< HEAD
   "execution_count": 18,
   "metadata": {
    "ExecuteTime": {
     "end_time": "2019-02-22T07:42:09.611642Z",
     "start_time": "2019-02-22T07:42:09.555749Z"
    },
    "scrolled": false
=======
   "execution_count": 2,
   "metadata": {
    "scrolled": true
>>>>>>> 884cd69331519827c2591efaf745be6bbcc97e6a
   },
   "outputs": [
    {
     "name": "stdout",
     "output_type": "stream",
     "text": [
<<<<<<< HEAD
      "['/Users/yj/anaconda3/lib/python3.6/site-packages/tensorflow', '/Users/yj/anaconda3/lib/python3.6/site-packages/tensorflow/python/estimator/api', '/Users/yj/anaconda3/lib/python3.6/site-packages/tensorflow/_api/v1']\n",
      "[[9.]]\n",
      "6.0\n"
=======
      "1.12.0\n"
     ]
    }
   ],
   "source": [
    "print(tf.__version__)"
   ]
  },
  {
   "cell_type": "code",
   "execution_count": 5,
   "metadata": {},
   "outputs": [
    {
     "name": "stdout",
     "output_type": "stream",
     "text": [
      "[[14]]\n"
>>>>>>> 884cd69331519827c2591efaf745be6bbcc97e6a
     ]
    }
   ],
   "source": [
    "import tensorflow as tf\n",
<<<<<<< HEAD
    "print(tf.__path__)\n",
    "\n",
    "mat1 = tf.constant([3,3],dtype=tf.float32,shape=(1,2))\n",
    "mat2 = tf.constant([[1.],[2.]])\n",
    "\n",
    "product = tf.matmul(mat1,mat2)\n",
    "\n",
    "a = tf.Variable(4.0)\n",
    "b = tf.constant(2.0)\n",
    "c = tf.add(a,b)\n",
    "\n",
    "init_op=tf.initialize_all_variables()\n",
    "with tf.Session() as sess2:\n",
    "    sess2.run(init_op)\n",
    "    \n",
    "    print(sess2.run(product))\n",
    "    print(sess2.run(c))\n"
=======
    "a = tf.constant([1,2,3],shape=(1,3))\n",
    "b = tf.constant([1,2,3],shape=(3,1))\n",
    "c = tf.matmul(a,b)\n",
    "\n",
    "with tf.Session() as sess:\n",
    "    result = sess.run(c)\n",
    "    print(result)"
   ]
  },
  {
   "cell_type": "code",
   "execution_count": 13,
   "metadata": {},
   "outputs": [
    {
     "name": "stdout",
     "output_type": "stream",
     "text": [
      "<tf.Variable 'couter_6:0' shape=() dtype=int32_ref>\n",
      "1\n",
      "2\n",
      "3\n",
      "4\n",
      "5\n",
      "6\n",
      "7\n",
      "8\n",
      "9\n",
      "10\n"
     ]
    }
   ],
   "source": [
    "import tensorflow as tf\n",
    "state = tf.Variable(0,name='couter')\n",
    "print(state)\n",
    "one = tf.constant(1,name='one')\n",
    "new_state = tf.add(state,one)\n",
    "update = tf.assign(state,new_state)\n",
    "\n",
    "init_op = tf.initialize_all_variables()\n",
    "with tf.Session() as sess:\n",
    "    sess.run(init_op)\n",
    "    for _ in range(10):\n",
    "        sess.run(update)\n",
    "        print(sess.run(state))"
   ]
  },
  {
   "cell_type": "code",
   "execution_count": 30,
   "metadata": {},
   "outputs": [
    {
     "name": "stdout",
     "output_type": "stream",
     "text": [
      "[130.0, 13.0]\n",
      "<class 'list'>\n"
     ]
    }
   ],
   "source": [
    "import tensorflow as tf \n",
    "\n",
    "num1=tf.constant(10.,name='num1')\n",
    "num2=tf.constant(3.,name='num2')\n",
    "\n",
    "intermed = tf.add(num1,num2)\n",
    "mul = tf.multiply(num1,intermed)\n",
    "\n",
    "with tf.Session() as sess:\n",
    "    result = sess.run([mul,intermed])\n",
    "    #result = sess.run(mul)\n",
    "    print(result)\n",
    "    print(type(result))\n",
    "\n"
   ]
  },
  {
   "cell_type": "code",
   "execution_count": 33,
   "metadata": {},
   "outputs": [
    {
     "name": "stdout",
     "output_type": "stream",
     "text": [
      "[6.] <class 'numpy.ndarray'>\n"
     ]
    }
   ],
   "source": [
    "import tensorflow as tf \n",
    "num1 = tf.placeholder(tf.float32)\n",
    "num2 = tf.placeholder(tf.float32)\n",
    "\n",
    "mul = tf.multiply(num1,num2)\n",
    "\n",
    "with tf.Session() as sess:\n",
    "    result = sess.run(mul,feed_dict={num1:[2,],num2:[3,]})\n",
    "    print(result,type(result))"
>>>>>>> 884cd69331519827c2591efaf745be6bbcc97e6a
   ]
  },
  {
   "cell_type": "code",
   "execution_count": null,
   "metadata": {},
   "outputs": [],
   "source": []
  }
 ],
 "metadata": {
  "kernelspec": {
   "display_name": "Python 3",
   "language": "python",
   "name": "python3"
  },
  "language_info": {
   "codemirror_mode": {
    "name": "ipython",
    "version": 3
   },
   "file_extension": ".py",
   "mimetype": "text/x-python",
   "name": "python",
   "nbconvert_exporter": "python",
   "pygments_lexer": "ipython3",
<<<<<<< HEAD
   "version": "3.6.4"
=======
   "version": "3.6.8"
>>>>>>> 884cd69331519827c2591efaf745be6bbcc97e6a
  }
 },
 "nbformat": 4,
 "nbformat_minor": 2
}
