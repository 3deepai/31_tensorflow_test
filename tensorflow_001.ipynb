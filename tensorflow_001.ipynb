{
 "cells": [
  {
   "cell_type": "markdown",
   "metadata": {},
   "source": [
    "# import tensorflow as tf\n"
   ]
  },
  {
   "cell_type": "code",
   "execution_count": 1,
   "metadata": {},
   "outputs": [],
   "source": [
    "import tensorflow as tf"
   ]
  },
  {
   "cell_type": "code",
   "execution_count": 2,
   "metadata": {
    "scrolled": true
   },
   "outputs": [
    {
     "name": "stdout",
     "output_type": "stream",
     "text": [
      "1.12.0\n"
     ]
    }
   ],
   "source": [
    "print(tf.__version__)"
   ]
  },
  {
   "cell_type": "code",
   "execution_count": 5,
   "metadata": {},
   "outputs": [
    {
     "name": "stdout",
     "output_type": "stream",
     "text": [
      "[[14]]\n"
     ]
    }
   ],
   "source": [
    "import tensorflow as tf\n",
    "a = tf.constant([1,2,3],shape=(1,3))\n",
    "b = tf.constant([1,2,3],shape=(3,1))\n",
    "c = tf.matmul(a,b)\n",
    "\n",
    "with tf.Session() as sess:\n",
    "    result = sess.run(c)\n",
    "    print(result)"
   ]
  },
  {
   "cell_type": "code",
   "execution_count": 13,
   "metadata": {},
   "outputs": [
    {
     "name": "stdout",
     "output_type": "stream",
     "text": [
      "<tf.Variable 'couter_6:0' shape=() dtype=int32_ref>\n",
      "1\n",
      "2\n",
      "3\n",
      "4\n",
      "5\n",
      "6\n",
      "7\n",
      "8\n",
      "9\n",
      "10\n"
     ]
    }
   ],
   "source": [
    "import tensorflow as tf\n",
    "state = tf.Variable(0,name='couter')\n",
    "print(state)\n",
    "one = tf.constant(1,name='one')\n",
    "new_state = tf.add(state,one)\n",
    "update = tf.assign(state,new_state)\n",
    "\n",
    "init_op = tf.initialize_all_variables()\n",
    "with tf.Session() as sess:\n",
    "    sess.run(init_op)\n",
    "    for _ in range(10):\n",
    "        sess.run(update)\n",
    "        print(sess.run(state))"
   ]
  },
  {
   "cell_type": "code",
   "execution_count": 30,
   "metadata": {},
   "outputs": [
    {
     "name": "stdout",
     "output_type": "stream",
     "text": [
      "[130.0, 13.0]\n",
      "<class 'list'>\n"
     ]
    }
   ],
   "source": [
    "import tensorflow as tf \n",
    "\n",
    "num1=tf.constant(10.,name='num1')\n",
    "num2=tf.constant(3.,name='num2')\n",
    "\n",
    "intermed = tf.add(num1,num2)\n",
    "mul = tf.multiply(num1,intermed)\n",
    "\n",
    "with tf.Session() as sess:\n",
    "    result = sess.run([mul,intermed])\n",
    "    #result = sess.run(mul)\n",
    "    print(result)\n",
    "    print(type(result))\n",
    "\n"
   ]
  },
  {
   "cell_type": "code",
   "execution_count": 33,
   "metadata": {},
   "outputs": [
    {
     "name": "stdout",
     "output_type": "stream",
     "text": [
      "[6.] <class 'numpy.ndarray'>\n"
     ]
    }
   ],
   "source": [
    "import tensorflow as tf \n",
    "num1 = tf.placeholder(tf.float32)\n",
    "num2 = tf.placeholder(tf.float32)\n",
    "\n",
    "mul = tf.multiply(num1,num2)\n",
    "\n",
    "with tf.Session() as sess:\n",
    "    result = sess.run(mul,feed_dict={num1:[2,],num2:[3,]})\n",
    "    print(result,type(result))"
   ]
  },
  {
   "cell_type": "code",
   "execution_count": null,
   "metadata": {},
   "outputs": [],
   "source": []
  }
 ],
 "metadata": {
  "kernelspec": {
   "display_name": "Python 3",
   "language": "python",
   "name": "python3"
  },
  "language_info": {
   "codemirror_mode": {
    "name": "ipython",
    "version": 3
   },
   "file_extension": ".py",
   "mimetype": "text/x-python",
   "name": "python",
   "nbconvert_exporter": "python",
   "pygments_lexer": "ipython3",
   "version": "3.6.8"
  }
 },
 "nbformat": 4,
 "nbformat_minor": 2
}
