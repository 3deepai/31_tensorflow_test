{
 "cells": [
  {
   "cell_type": "markdown",
   "metadata": {},
   "source": [
    "## tensorflow\n",
    "\n",
    "图 graph:计算任务\n",
    "张量 tensor:数据\n",
    "操作 op:\n",
    "会话 Session:\n",
    "变量 Variable:\n",
    "\n",
    "\n"
   ]
  },
  {
   "cell_type": "code",
   "execution_count": 18,
   "metadata": {
    "ExecuteTime": {
     "end_time": "2019-02-22T07:42:09.611642Z",
     "start_time": "2019-02-22T07:42:09.555749Z"
    },
    "scrolled": false
   },
   "outputs": [
    {
     "name": "stdout",
     "output_type": "stream",
     "text": [
      "['/Users/yj/anaconda3/lib/python3.6/site-packages/tensorflow', '/Users/yj/anaconda3/lib/python3.6/site-packages/tensorflow/python/estimator/api', '/Users/yj/anaconda3/lib/python3.6/site-packages/tensorflow/_api/v1']\n",
      "[[9.]]\n",
      "6.0\n"
     ]
    }
   ],
   "source": [
    "import tensorflow as tf\n",
    "print(tf.__path__)\n",
    "\n",
    "mat1 = tf.constant([3,3],dtype=tf.float32,shape=(1,2))\n",
    "mat2 = tf.constant([[1.],[2.]])\n",
    "\n",
    "product = tf.matmul(mat1,mat2)\n",
    "\n",
    "a = tf.Variable(4.0)\n",
    "b = tf.constant(2.0)\n",
    "c = tf.add(a,b)\n",
    "\n",
    "init_op=tf.initialize_all_variables()\n",
    "with tf.Session() as sess2:\n",
    "    sess2.run(init_op)\n",
    "    \n",
    "    print(sess2.run(product))\n",
    "    print(sess2.run(c))\n"
   ]
  },
  {
   "cell_type": "code",
   "execution_count": null,
   "metadata": {},
   "outputs": [],
   "source": []
  }
 ],
 "metadata": {
  "kernelspec": {
   "display_name": "Python 3",
   "language": "python",
   "name": "python3"
  },
  "language_info": {
   "codemirror_mode": {
    "name": "ipython",
    "version": 3
   },
   "file_extension": ".py",
   "mimetype": "text/x-python",
   "name": "python",
   "nbconvert_exporter": "python",
   "pygments_lexer": "ipython3",
   "version": "3.6.4"
  }
 },
 "nbformat": 4,
 "nbformat_minor": 2
}
