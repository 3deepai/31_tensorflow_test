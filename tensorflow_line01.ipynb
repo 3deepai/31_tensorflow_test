{
 "cells": [
  {
   "cell_type": "code",
   "execution_count": 3,
   "metadata": {
    "ExecuteTime": {
     "end_time": "2019-02-26T10:20:29.472321Z",
     "start_time": "2019-02-26T10:20:29.183391Z"
    }
   },
   "outputs": [],
   "source": [
    "import tensorflow as tf\n",
    "import numpy as np\n",
    "import matplotlib.pylab as plt"
   ]
  },
  {
   "cell_type": "code",
   "execution_count": 58,
   "metadata": {
    "ExecuteTime": {
     "end_time": "2019-02-26T10:48:43.414861Z",
     "start_time": "2019-02-26T10:48:43.410251Z"
    }
   },
   "outputs": [],
   "source": [
    "N = 100\n",
    "K = 10.0\n",
    "B = -15.2\n",
    "x = np.linspace(0,10,N) + np.random.normal(scale=3.0,size=N)\n",
    "y = K*x + B + np.random.normal(scale=1.5,size=N)\n"
   ]
  },
  {
   "cell_type": "code",
   "execution_count": 64,
   "metadata": {
    "ExecuteTime": {
     "end_time": "2019-02-26T10:55:16.389221Z",
     "start_time": "2019-02-26T10:55:16.324819Z"
    }
   },
   "outputs": [],
   "source": [
    "w = tf.Variable(tf.random_uniform(shape=[1],minval=-1,maxval=1),name='w')\n",
    "b = tf.Variable(0.0,name='b')\n",
    "\n",
    "learn_rate = 0.01\n",
    "init_op = tf.global_variables_initializer()\n",
    "y_hat = w * x + b\n",
    "loss = tf.reduce_mean(tf.square(y_hat - y),name='lost')\n",
    "optimizer = tf.train.GradientDescentOptimizer(learn_rate)\n",
    "train = optimizer.minimize(loss)\n",
    "\n"
   ]
  },
  {
   "cell_type": "code",
   "execution_count": 63,
   "metadata": {
    "ExecuteTime": {
     "end_time": "2019-02-26T10:49:22.719790Z",
     "start_time": "2019-02-26T10:49:22.023519Z"
    }
   },
   "outputs": [
    {
     "name": "stdout",
     "output_type": "stream",
     "text": [
      "0 [6.599261] 0.58095545\n",
      "100 [9.177561] -8.360989\n",
      "200 [9.651761] -12.260836\n",
      "300 [9.854524] -13.928359\n",
      "400 [9.941221] -14.641371\n",
      "500 [9.978292] -14.946241\n",
      "600 [9.9941435] -15.076604\n",
      "700 [10.000921] -15.132346\n",
      "800 [10.003819] -15.156178\n",
      "900 [10.005058] -15.166368\n",
      "[10.005585] -15.170697\n"
     ]
    },
    {
     "data": {
      "text/plain": [
       "[<matplotlib.lines.Line2D at 0x1c3841a2b0>]"
      ]
     },
     "execution_count": 63,
     "metadata": {},
     "output_type": "execute_result"
    },
    {
     "data": {
      "image/png": "[encoded data removed]",
      "text/plain": [
       "<matplotlib.figure.Figure at 0x1c37e0c0b8>"
      ]
     },
     "metadata": {},
     "output_type": "display_data"
    }
   ],
   "source": [
    "with tf.Session() as sess:\n",
    "    sess.run(init_op)\n",
    "    for i in range(1000):\n",
    "        sess.run(train)\n",
    "        if i%100 == 0:\n",
    "            print(i,sess.run(w),sess.run(b))\n",
    "    result_w ,result_b = sess.run([w,b])\n",
    "print(result_w,result_b)\n",
    "plt.plot(x,y,'r.')\n",
    "plt.plot(x,result_w*x+result_b,'b')"
   ]
  },
  {
   "cell_type": "code",
   "execution_count": null,
   "metadata": {},
   "outputs": [],
   "source": []
  }
 ],
 "metadata": {
  "kernelspec": {
   "display_name": "Python 3",
   "language": "python",
   "name": "python3"
  },
  "language_info": {
   "codemirror_mode": {
    "name": "ipython",
    "version": 3
   },
   "file_extension": ".py",
   "mimetype": "text/x-python",
   "name": "python",
   "nbconvert_exporter": "python",
   "pygments_lexer": "ipython3",
   "version": "3.6.4"
  }
 },
 "nbformat": 4,
 "nbformat_minor": 2
}
